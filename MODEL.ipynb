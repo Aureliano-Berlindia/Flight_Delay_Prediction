{
 "cells": [
  {
   "cell_type": "code",
   "execution_count": 32,
   "id": "34707af3-67e3-45a0-b2bc-066d27dcfd44",
   "metadata": {},
   "outputs": [],
   "source": [
    "import pandas as pd\n",
    "import json\n",
    "import time\n",
    "import random\n",
    "from datetime import datetime\n",
    "import csv\n",
    "import os\n",
    "import logging\n",
    "import seaborn as sns\n",
    "\n",
    "#logging.basicConfig(filename='Model.log', encoding='utf-8', level=logging.INFO)"
   ]
  },
  {
   "cell_type": "code",
   "execution_count": 2,
   "id": "0ca575d4-e680-426e-9a34-bb46a2d6df99",
   "metadata": {},
   "outputs": [],
   "source": [
    "df = pd.read_csv('Flight_data_with_MODEL_&_WEATHER.csv', low_memory=False, dtype='unicode')"
   ]
  },
  {
   "cell_type": "code",
   "execution_count": 16,
   "id": "62ea7540-1bb4-4939-9efb-c05d83817ff6",
   "metadata": {
    "tags": []
   },
   "outputs": [
    {
     "name": "stdout",
     "output_type": "stream",
     "text": [
      "<class 'pandas.core.frame.DataFrame'>\n",
      "RangeIndex: 762573 entries, 0 to 762572\n",
      "Data columns (total 144 columns):\n",
      " #    Column                                              Non-Null Count   Dtype \n",
      "---   ------                                              --------------   ----- \n",
      " 0    Year                                                762573 non-null  object\n",
      " 1    Quarter                                             762573 non-null  object\n",
      " 2    Month                                               762573 non-null  object\n",
      " 3    DayofMonth                                          762573 non-null  object\n",
      " 4    DayOfWeek                                           762573 non-null  object\n",
      " 5    FlightDate                                          762573 non-null  object\n",
      " 6    Marketing_Airline_Network                           762573 non-null  object\n",
      " 7    Operated_or_Branded_Code_Share_Partners             762573 non-null  object\n",
      " 8    DOT_ID_Marketing_Airline                            762573 non-null  object\n",
      " 9    IATA_Code_Marketing_Airline                         762573 non-null  object\n",
      " 10   Flight_Number_Marketing_Airline                     762573 non-null  object\n",
      " 11   Originally_Scheduled_Code_Share_Airline             51 non-null      object\n",
      " 12   DOT_ID_Originally_Scheduled_Code_Share_Airline      51 non-null      object\n",
      " 13   IATA_Code_Originally_Scheduled_Code_Share_Airline   51 non-null      object\n",
      " 14   Flight_Num_Originally_Scheduled_Code_Share_Airline  51 non-null      object\n",
      " 15   Operating_Airline                                   762573 non-null  object\n",
      " 16   DOT_ID_Operating_Airline                            762573 non-null  object\n",
      " 17   IATA_Code_Operating_Airline                         762573 non-null  object\n",
      " 18   Tail_Number                                         758487 non-null  object\n",
      " 19   Flight_Number_Operating_Airline                     762573 non-null  object\n",
      " 20   OriginAirportID                                     762573 non-null  object\n",
      " 21   OriginAirportSeqID                                  762573 non-null  object\n",
      " 22   OriginCityMarketID                                  762573 non-null  object\n",
      " 23   Origin                                              762573 non-null  object\n",
      " 24   OriginCityName                                      762573 non-null  object\n",
      " 25   OriginState                                         762573 non-null  object\n",
      " 26   OriginStateFips                                     762573 non-null  object\n",
      " 27   OriginStateName                                     762573 non-null  object\n",
      " 28   OriginWac                                           762573 non-null  object\n",
      " 29   DestAirportID                                       762573 non-null  object\n",
      " 30   DestAirportSeqID                                    762573 non-null  object\n",
      " 31   DestCityMarketID                                    762573 non-null  object\n",
      " 32   Dest                                                762573 non-null  object\n",
      " 33   DestCityName                                        762573 non-null  object\n",
      " 34   DestState                                           762573 non-null  object\n",
      " 35   DestStateFips                                       762573 non-null  object\n",
      " 36   DestStateName                                       762573 non-null  object\n",
      " 37   DestWac                                             762573 non-null  object\n",
      " 38   CRSDepTime                                          762573 non-null  object\n",
      " 39   DepTime                                             744025 non-null  object\n",
      " 40   DepDelay                                            744010 non-null  object\n",
      " 41   DepDelayMinutes                                     744010 non-null  object\n",
      " 42   DepDel15                                            744010 non-null  object\n",
      " 43   DepartureDelayGroups                                744010 non-null  object\n",
      " 44   DepTimeBlk                                          762573 non-null  object\n",
      " 45   TaxiOut                                             743640 non-null  object\n",
      " 46   WheelsOff                                           743640 non-null  object\n",
      " 47   WheelsOn                                            743320 non-null  object\n",
      " 48   TaxiIn                                              743320 non-null  object\n",
      " 49   CRSArrTime                                          762573 non-null  object\n",
      " 50   ArrTime                                             743321 non-null  object\n",
      " 51   ArrDelay                                            741618 non-null  object\n",
      " 52   ArrDelayMinutes                                     741618 non-null  object\n",
      " 53   ArrDel15                                            741618 non-null  object\n",
      " 54   ArrivalDelayGroups                                  741618 non-null  object\n",
      " 55   ArrTimeBlk                                          762573 non-null  object\n",
      " 56   Cancelled                                           762573 non-null  object\n",
      " 57   CancellationCode                                    19042 non-null   object\n",
      " 58   Diverted                                            762573 non-null  object\n",
      " 59   CRSElapsedTime                                      762572 non-null  object\n",
      " 60   ActualElapsedTime                                   741618 non-null  object\n",
      " 61   AirTime                                             741618 non-null  object\n",
      " 62   Flights                                             762573 non-null  object\n",
      " 63   Distance                                            762573 non-null  object\n",
      " 64   DistanceGroup                                       762573 non-null  object\n",
      " 65   CarrierDelay                                        153249 non-null  object\n",
      " 66   WeatherDelay                                        153249 non-null  object\n",
      " 67   NASDelay                                            153249 non-null  object\n",
      " 68   SecurityDelay                                       153249 non-null  object\n",
      " 69   LateAircraftDelay                                   153249 non-null  object\n",
      " 70   FirstDepTime                                        4682 non-null    object\n",
      " 71   TotalAddGTime                                       4681 non-null    object\n",
      " 72   LongestAddGTime                                     4681 non-null    object\n",
      " 73   DivAirportLandings                                  762573 non-null  object\n",
      " 74   DivReachedDest                                      1913 non-null    object\n",
      " 75   DivActualElapsedTime                                1703 non-null    object\n",
      " 76   DivArrDelay                                         1703 non-null    object\n",
      " 77   DivDistance                                         1913 non-null    object\n",
      " 78   Div1Airport                                         2022 non-null    object\n",
      " 79   Div1AirportID                                       2022 non-null    object\n",
      " 80   Div1AirportSeqID                                    2022 non-null    object\n",
      " 81   Div1WheelsOn                                        2022 non-null    object\n",
      " 82   Div1TotalGTime                                      2022 non-null    object\n",
      " 83   Div1LongestGTime                                    2022 non-null    object\n",
      " 84   Div1WheelsOff                                       1709 non-null    object\n",
      " 85   Div1TailNum                                         1709 non-null    object\n",
      " 86   Div2Airport                                         16 non-null      object\n",
      " 87   Div2AirportID                                       16 non-null      object\n",
      " 88   Div2AirportSeqID                                    16 non-null      object\n",
      " 89   Div2WheelsOn                                        16 non-null      object\n",
      " 90   Div2TotalGTime                                      16 non-null      object\n",
      " 91   Div2LongestGTime                                    16 non-null      object\n",
      " 92   Div2WheelsOff                                       9 non-null       object\n",
      " 93   Div2TailNum                                         9 non-null       object\n",
      " 94   Div3Airport                                         0 non-null       object\n",
      " 95   Div3AirportID                                       0 non-null       object\n",
      " 96   Div3AirportSeqID                                    0 non-null       object\n",
      " 97   Div3WheelsOn                                        0 non-null       object\n",
      " 98   Div3TotalGTime                                      0 non-null       object\n",
      " 99   Div3LongestGTime                                    0 non-null       object\n",
      " 100  Div3WheelsOff                                       0 non-null       object\n",
      " 101  Div3TailNum                                         0 non-null       object\n",
      " 102  Div4Airport                                         0 non-null       object\n",
      " 103  Div4AirportID                                       0 non-null       object\n",
      " 104  Div4AirportSeqID                                    0 non-null       object\n",
      " 105  Div4WheelsOn                                        0 non-null       object\n",
      " 106  Div4TotalGTime                                      0 non-null       object\n",
      " 107  Div4LongestGTime                                    0 non-null       object\n",
      " 108  Div4WheelsOff                                       0 non-null       object\n",
      " 109  Div4TailNum                                         0 non-null       object\n",
      " 110  Div5Airport                                         0 non-null       object\n",
      " 111  Div5AirportID                                       0 non-null       object\n",
      " 112  Div5AirportSeqID                                    0 non-null       object\n",
      " 113  Div5WheelsOn                                        0 non-null       object\n",
      " 114  Div5TotalGTime                                      0 non-null       object\n",
      " 115  Div5LongestGTime                                    0 non-null       object\n",
      " 116  Div5WheelsOff                                       0 non-null       object\n",
      " 117  Div5TailNum                                         0 non-null       object\n",
      " 118  Duplicate                                           762573 non-null  object\n",
      " 119  Unnamed: 119                                        0 non-null       object\n",
      " 120  model_s                                             548112 non-null  object\n",
      " 121  tail_num                                            548112 non-null  object\n",
      " 122  mfg                                                 391233 non-null  object\n",
      " 123  model                                               547138 non-null  object\n",
      " 124  updated                                             548112 non-null  object\n",
      " 125  comment                                             231268 non-null  object\n",
      " 126  DepHour                                             762573 non-null  object\n",
      " 127  time                                                760721 non-null  object\n",
      " 128  temp                                                760721 non-null  object\n",
      " 129  dwpt                                                760721 non-null  object\n",
      " 130  rhum                                                760721 non-null  object\n",
      " 131  prcp                                                760579 non-null  object\n",
      " 132  wdir                                                760721 non-null  object\n",
      " 133  wspd                                                760721 non-null  object\n",
      " 134  wpgt                                                343 non-null     object\n",
      " 135  pres                                                760721 non-null  object\n",
      " 136  coco                                                539983 non-null  object\n",
      " 137  locName                                             760721 non-null  object\n",
      " 138  lat                                                 760721 non-null  object\n",
      " 139  long                                                760721 non-null  object\n",
      " 140  stationCode                                         760721 non-null  object\n",
      " 141  Date                                                760721 non-null  object\n",
      " 142  Hour                                                760721 non-null  object\n",
      " 143  is_delay                                            762573 non-null  int64 \n",
      "dtypes: int64(1), object(143)\n",
      "memory usage: 837.8+ MB\n"
     ]
    }
   ],
   "source": [
    "df.info(verbose=True, show_counts=True)"
   ]
  },
  {
   "cell_type": "code",
   "execution_count": 13,
   "id": "2643665e-cb18-4f12-8f78-2a7449271ec5",
   "metadata": {},
   "outputs": [
    {
     "data": {
      "text/plain": [
       "0                 NaN\n",
       "1         CL-600-2B19\n",
       "2         CL-600-2C10\n",
       "3                 NaN\n",
       "4                E170\n",
       "             ...     \n",
       "762568            NaN\n",
       "762569            NaN\n",
       "762570            NaN\n",
       "762571        737-7H4\n",
       "762572        737-8H4\n",
       "Name: model, Length: 762573, dtype: object"
      ]
     },
     "execution_count": 13,
     "metadata": {},
     "output_type": "execute_result"
    }
   ],
   "source": [
    "df['model']"
   ]
  },
  {
   "cell_type": "code",
   "execution_count": 41,
   "id": "a11497ef-ef96-4fe9-9986-22a1751ad542",
   "metadata": {},
   "outputs": [],
   "source": [
    "# 需定义啥叫延误，这里以0为阈值，<=0的视为没有延误（0）   >0的视为延误（1）\n",
    "df['is_delay'] = df['ArrDelay'].apply(lambda x: 0 if float(x)<=0 else 1)"
   ]
  },
  {
   "cell_type": "markdown",
   "id": "fc5666e3-b4b0-450f-8188-86588b94fdbe",
   "metadata": {},
   "source": [
    "## EDA"
   ]
  },
  {
   "cell_type": "code",
   "execution_count": 33,
   "id": "024a1c29-0ce6-4681-9499-e04820adcc15",
   "metadata": {},
   "outputs": [
    {
     "data": {
      "text/plain": [
       "<seaborn.axisgrid.FacetGrid at 0x21f03fba640>"
      ]
     },
     "execution_count": 33,
     "metadata": {},
     "output_type": "execute_result"
    },
    {
     "data": {
      "image/png": "[encoded data removed]",
      "text/plain": [
       "<Figure size 500x500 with 1 Axes>"
      ]
     },
     "metadata": {},
     "output_type": "display_data"
    }
   ],
   "source": [
    "sns.displot(data=df, x='is_delay')"
   ]
  },
  {
   "cell_type": "code",
   "execution_count": null,
   "id": "96b22fd3-1252-4dd7-adab-a4d622ea45bd",
   "metadata": {},
   "outputs": [],
   "source": []
  },
  {
   "cell_type": "markdown",
   "id": "fb386298-7257-43da-96a5-8b2533937c45",
   "metadata": {},
   "source": [
    "## 特征工程\n"
   ]
  },
  {
   "cell_type": "raw",
   "id": "872377cf-2abe-453d-9a49-e6b8217217f3",
   "metadata": {},
   "source": [
    " 0    Year                                                762573 non-null  object\n",
    " 1    Quarter                                             762573 non-null  object\n",
    " 2    Month                                               762573 non-null  object\n",
    " 3    DayofMonth                                          762573 non-null  object\n",
    " 4    DayOfWeek                                           762573 non-null  object\n",
    " 5    FlightDate                                          762573 non-null  object\n",
    " 6    Marketing_Airline_Network                           762573 non-null  object\n",
    " 7    Operated_or_Branded_Code_Share_Partners             762573 non-null  object\n",
    " 8    DOT_ID_Marketing_Airline                            762573 non-null  object\n",
    " 9    IATA_Code_Marketing_Airline                         762573 non-null  object\n",
    " 10   Flight_Number_Marketing_Airline                     762573 non-null  object\n",
    " 20   OriginAirportID                                     762573 non-null  object\n",
    " 29   DestAirportID                                       762573 non-null  object\n",
    " 39   DepTime                                             744025 non-null  object\n",
    " 40   DepDelay                                            744010 non-null  object\n",
    " 50   ArrTime                                             743321 non-null  object    \n",
    " 63   Distance                                            762573 non-null  object\n",
    " 128  temp                                                760721 non-null  object\n",
    " 129  dwpt                                                760721 non-null  object\n",
    " 130  rhum                                                760721 non-null  object\n",
    " 131  prcp                                                760579 non-null  object\n",
    " 133  wspd                                                760721 non-null  object\n",
    " 135  pres                                                760721 non-null  object\n",
    " 123  model                                               547138 non-null  object\n"
   ]
  },
  {
   "cell_type": "markdown",
   "id": "cdc3cb1e-14f8-4e77-888e-c2da05102357",
   "metadata": {},
   "source": [
    "### 选择建模变量"
   ]
  },
  {
   "cell_type": "code",
   "execution_count": 47,
   "id": "52529c01-767b-4c13-83c7-71b0f9d4fee3",
   "metadata": {},
   "outputs": [],
   "source": [
    "from sklearn import preprocessing"
   ]
  },
  {
   "cell_type": "code",
   "execution_count": 46,
   "id": "31a36333-0b03-425f-bac3-c3efb7301d99",
   "metadata": {},
   "outputs": [],
   "source": [
    "# 'Marketing_Airline_Network'与'Flight_Number_Marketing_Airline'对应，但后者是数字型，去除哦。使用前者one-hot\n",
    "# DepDelay对于决定Arrival delay 太重要了，是否放在变量里？\n",
    "\n",
    "variable_columns = ['Year','Quarter','Month','DayofMonth','DayOfWeek','Marketing_Airline_Network',\n",
    "                    'OriginAirportID','DestAirportID','DepTime','DepDelay','ArrTime',\n",
    "                    'Distance','temp','dwpt','rhum','prcp','wspd','wdir','pres','model',\n",
    "                   'is_delay']\n"
   ]
  },
  {
   "cell_type": "code",
   "execution_count": 103,
   "id": "c6de72f1-746e-47c8-a19c-36331926b2f6",
   "metadata": {},
   "outputs": [
    {
     "data": {
      "text/html": [
       "<div>\n",
       "<style scoped>\n",
       "    .dataframe tbody tr th:only-of-type {\n",
       "        vertical-align: middle;\n",
       "    }\n",
       "\n",
       "    .dataframe tbody tr th {\n",
       "        vertical-align: top;\n",
       "    }\n",
       "\n",
       "    .dataframe thead th {\n",
       "        text-align: right;\n",
       "    }\n",
       "</style>\n",
       "<table border=\"1\" class=\"dataframe\">\n",
       "  <thead>\n",
       "    <tr style=\"text-align: right;\">\n",
       "      <th></th>\n",
       "      <th>Year</th>\n",
       "      <th>Quarter</th>\n",
       "      <th>Month</th>\n",
       "      <th>DayofMonth</th>\n",
       "      <th>DayOfWeek</th>\n",
       "      <th>Marketing_Airline_Network</th>\n",
       "      <th>OriginAirportID</th>\n",
       "      <th>DestAirportID</th>\n",
       "      <th>DepTime</th>\n",
       "      <th>DepDelay</th>\n",
       "      <th>...</th>\n",
       "      <th>Distance</th>\n",
       "      <th>temp</th>\n",
       "      <th>dwpt</th>\n",
       "      <th>rhum</th>\n",
       "      <th>prcp</th>\n",
       "      <th>wspd</th>\n",
       "      <th>wdir</th>\n",
       "      <th>pres</th>\n",
       "      <th>model</th>\n",
       "      <th>is_delay</th>\n",
       "    </tr>\n",
       "  </thead>\n",
       "  <tbody>\n",
       "    <tr>\n",
       "      <th>0</th>\n",
       "      <td>2021</td>\n",
       "      <td>4</td>\n",
       "      <td>10</td>\n",
       "      <td>22</td>\n",
       "      <td>5</td>\n",
       "      <td>G4</td>\n",
       "      <td>11986</td>\n",
       "      <td>10423</td>\n",
       "      <td>0824</td>\n",
       "      <td>-3.00</td>\n",
       "      <td>...</td>\n",
       "      <td>1103.00</td>\n",
       "      <td>5.9</td>\n",
       "      <td>-8.1</td>\n",
       "      <td>36.0</td>\n",
       "      <td>0.0</td>\n",
       "      <td>14.8</td>\n",
       "      <td>190.0</td>\n",
       "      <td>1016.9</td>\n",
       "      <td>NaN</td>\n",
       "      <td>0</td>\n",
       "    </tr>\n",
       "    <tr>\n",
       "      <th>1</th>\n",
       "      <td>2021</td>\n",
       "      <td>4</td>\n",
       "      <td>10</td>\n",
       "      <td>16</td>\n",
       "      <td>6</td>\n",
       "      <td>UA</td>\n",
       "      <td>12197</td>\n",
       "      <td>13930</td>\n",
       "      <td>0621</td>\n",
       "      <td>-9.00</td>\n",
       "      <td>...</td>\n",
       "      <td>738.00</td>\n",
       "      <td>22.8</td>\n",
       "      <td>21.1</td>\n",
       "      <td>90.0</td>\n",
       "      <td>0.0</td>\n",
       "      <td>0.0</td>\n",
       "      <td>0.0</td>\n",
       "      <td>1013.2</td>\n",
       "      <td>CL-600-2B19</td>\n",
       "      <td>0</td>\n",
       "    </tr>\n",
       "    <tr>\n",
       "      <th>2</th>\n",
       "      <td>2021</td>\n",
       "      <td>4</td>\n",
       "      <td>10</td>\n",
       "      <td>3</td>\n",
       "      <td>7</td>\n",
       "      <td>DL</td>\n",
       "      <td>12339</td>\n",
       "      <td>11433</td>\n",
       "      <td>1406</td>\n",
       "      <td>-4.00</td>\n",
       "      <td>...</td>\n",
       "      <td>231.00</td>\n",
       "      <td>28.9</td>\n",
       "      <td>23.3</td>\n",
       "      <td>72.0</td>\n",
       "      <td>0.0</td>\n",
       "      <td>24.1</td>\n",
       "      <td>70.0</td>\n",
       "      <td>1015.3</td>\n",
       "      <td>CL-600-2C10</td>\n",
       "      <td>0</td>\n",
       "    </tr>\n",
       "    <tr>\n",
       "      <th>3</th>\n",
       "      <td>2021</td>\n",
       "      <td>4</td>\n",
       "      <td>10</td>\n",
       "      <td>11</td>\n",
       "      <td>1</td>\n",
       "      <td>F9</td>\n",
       "      <td>11292</td>\n",
       "      <td>14107</td>\n",
       "      <td>2241</td>\n",
       "      <td>-4.00</td>\n",
       "      <td>...</td>\n",
       "      <td>602.00</td>\n",
       "      <td>27.2</td>\n",
       "      <td>3.0</td>\n",
       "      <td>21.0</td>\n",
       "      <td>0.0</td>\n",
       "      <td>29.5</td>\n",
       "      <td>200.0</td>\n",
       "      <td>996.3</td>\n",
       "      <td>NaN</td>\n",
       "      <td>1</td>\n",
       "    </tr>\n",
       "    <tr>\n",
       "      <th>4</th>\n",
       "      <td>2021</td>\n",
       "      <td>4</td>\n",
       "      <td>10</td>\n",
       "      <td>7</td>\n",
       "      <td>4</td>\n",
       "      <td>UA</td>\n",
       "      <td>14986</td>\n",
       "      <td>11618</td>\n",
       "      <td>1433</td>\n",
       "      <td>-7.00</td>\n",
       "      <td>...</td>\n",
       "      <td>1034.00</td>\n",
       "      <td>24.4</td>\n",
       "      <td>15.6</td>\n",
       "      <td>58.0</td>\n",
       "      <td>0.0</td>\n",
       "      <td>7.6</td>\n",
       "      <td>20.0</td>\n",
       "      <td>1025.0</td>\n",
       "      <td>E170</td>\n",
       "      <td>0</td>\n",
       "    </tr>\n",
       "  </tbody>\n",
       "</table>\n",
       "<p>5 rows × 21 columns</p>\n",
       "</div>"
      ],
      "text/plain": [
       "   Year Quarter Month DayofMonth DayOfWeek Marketing_Airline_Network  \\\n",
       "0  2021       4    10         22         5                        G4   \n",
       "1  2021       4    10         16         6                        UA   \n",
       "2  2021       4    10          3         7                        DL   \n",
       "3  2021       4    10         11         1                        F9   \n",
       "4  2021       4    10          7         4                        UA   \n",
       "\n",
       "  OriginAirportID DestAirportID DepTime DepDelay  ... Distance  temp  dwpt  \\\n",
       "0           11986         10423    0824    -3.00  ...  1103.00   5.9  -8.1   \n",
       "1           12197         13930    0621    -9.00  ...   738.00  22.8  21.1   \n",
       "2           12339         11433    1406    -4.00  ...   231.00  28.9  23.3   \n",
       "3           11292         14107    2241    -4.00  ...   602.00  27.2   3.0   \n",
       "4           14986         11618    1433    -7.00  ...  1034.00  24.4  15.6   \n",
       "\n",
       "   rhum prcp  wspd   wdir    pres        model is_delay  \n",
       "0  36.0  0.0  14.8  190.0  1016.9          NaN        0  \n",
       "1  90.0  0.0   0.0    0.0  1013.2  CL-600-2B19        0  \n",
       "2  72.0  0.0  24.1   70.0  1015.3  CL-600-2C10        0  \n",
       "3  21.0  0.0  29.5  200.0   996.3          NaN        1  \n",
       "4  58.0  0.0   7.6   20.0  1025.0         E170        0  \n",
       "\n",
       "[5 rows x 21 columns]"
      ]
     },
     "execution_count": 103,
     "metadata": {},
     "output_type": "execute_result"
    }
   ],
   "source": [
    "train = df[variable_columns].copy()\n",
    "train.head()"
   ]
  },
  {
   "cell_type": "markdown",
   "id": "3a14e05c-f167-4804-b0b6-5860f970e4f9",
   "metadata": {},
   "source": [
    "#### Marketing_Airline_Network /运营商"
   ]
  },
  {
   "cell_type": "code",
   "execution_count": 104,
   "id": "1940b536-60c1-477b-b9ba-702c6017fb10",
   "metadata": {},
   "outputs": [
    {
     "data": {
      "text/plain": [
       "array(['G4', 'UA', 'DL', 'F9', 'B6', 'AA', 'AS', 'WN', 'NK', 'HA'],\n",
       "      dtype=object)"
      ]
     },
     "execution_count": 104,
     "metadata": {},
     "output_type": "execute_result"
    }
   ],
   "source": [
    "train['Marketing_Airline_Network'].unique()"
   ]
  },
  {
   "cell_type": "markdown",
   "id": "3a3c8cb0-1967-4f93-8e25-56415613e4dc",
   "metadata": {},
   "source": [
    "Marketing_Airline_Network 的分类数较少，直接使用get_dummy one-hot编码"
   ]
  },
  {
   "cell_type": "code",
   "execution_count": 105,
   "id": "e3cfad28-abdf-466f-a77b-832b36a202ca",
   "metadata": {},
   "outputs": [
    {
     "data": {
      "text/html": [
       "<div>\n",
       "<style scoped>\n",
       "    .dataframe tbody tr th:only-of-type {\n",
       "        vertical-align: middle;\n",
       "    }\n",
       "\n",
       "    .dataframe tbody tr th {\n",
       "        vertical-align: top;\n",
       "    }\n",
       "\n",
       "    .dataframe thead th {\n",
       "        text-align: right;\n",
       "    }\n",
       "</style>\n",
       "<table border=\"1\" class=\"dataframe\">\n",
       "  <thead>\n",
       "    <tr style=\"text-align: right;\">\n",
       "      <th></th>\n",
       "      <th>Year</th>\n",
       "      <th>Quarter</th>\n",
       "      <th>Month</th>\n",
       "      <th>DayofMonth</th>\n",
       "      <th>DayOfWeek</th>\n",
       "      <th>OriginAirportID</th>\n",
       "      <th>DestAirportID</th>\n",
       "      <th>DepTime</th>\n",
       "      <th>DepDelay</th>\n",
       "      <th>ArrTime</th>\n",
       "      <th>...</th>\n",
       "      <th>Marketing_Airline_Network_AA</th>\n",
       "      <th>Marketing_Airline_Network_AS</th>\n",
       "      <th>Marketing_Airline_Network_B6</th>\n",
       "      <th>Marketing_Airline_Network_DL</th>\n",
       "      <th>Marketing_Airline_Network_F9</th>\n",
       "      <th>Marketing_Airline_Network_G4</th>\n",
       "      <th>Marketing_Airline_Network_HA</th>\n",
       "      <th>Marketing_Airline_Network_NK</th>\n",
       "      <th>Marketing_Airline_Network_UA</th>\n",
       "      <th>Marketing_Airline_Network_WN</th>\n",
       "    </tr>\n",
       "  </thead>\n",
       "  <tbody>\n",
       "    <tr>\n",
       "      <th>0</th>\n",
       "      <td>2021</td>\n",
       "      <td>4</td>\n",
       "      <td>10</td>\n",
       "      <td>22</td>\n",
       "      <td>5</td>\n",
       "      <td>11986</td>\n",
       "      <td>10423</td>\n",
       "      <td>0824</td>\n",
       "      <td>-3.00</td>\n",
       "      <td>1014</td>\n",
       "      <td>...</td>\n",
       "      <td>0</td>\n",
       "      <td>0</td>\n",
       "      <td>0</td>\n",
       "      <td>0</td>\n",
       "      <td>0</td>\n",
       "      <td>1</td>\n",
       "      <td>0</td>\n",
       "      <td>0</td>\n",
       "      <td>0</td>\n",
       "      <td>0</td>\n",
       "    </tr>\n",
       "    <tr>\n",
       "      <th>1</th>\n",
       "      <td>2021</td>\n",
       "      <td>4</td>\n",
       "      <td>10</td>\n",
       "      <td>16</td>\n",
       "      <td>6</td>\n",
       "      <td>12197</td>\n",
       "      <td>13930</td>\n",
       "      <td>0621</td>\n",
       "      <td>-9.00</td>\n",
       "      <td>0745</td>\n",
       "      <td>...</td>\n",
       "      <td>0</td>\n",
       "      <td>0</td>\n",
       "      <td>0</td>\n",
       "      <td>0</td>\n",
       "      <td>0</td>\n",
       "      <td>0</td>\n",
       "      <td>0</td>\n",
       "      <td>0</td>\n",
       "      <td>1</td>\n",
       "      <td>0</td>\n",
       "    </tr>\n",
       "    <tr>\n",
       "      <th>2</th>\n",
       "      <td>2021</td>\n",
       "      <td>4</td>\n",
       "      <td>10</td>\n",
       "      <td>3</td>\n",
       "      <td>7</td>\n",
       "      <td>12339</td>\n",
       "      <td>11433</td>\n",
       "      <td>1406</td>\n",
       "      <td>-4.00</td>\n",
       "      <td>1516</td>\n",
       "      <td>...</td>\n",
       "      <td>0</td>\n",
       "      <td>0</td>\n",
       "      <td>0</td>\n",
       "      <td>1</td>\n",
       "      <td>0</td>\n",
       "      <td>0</td>\n",
       "      <td>0</td>\n",
       "      <td>0</td>\n",
       "      <td>0</td>\n",
       "      <td>0</td>\n",
       "    </tr>\n",
       "    <tr>\n",
       "      <th>3</th>\n",
       "      <td>2021</td>\n",
       "      <td>4</td>\n",
       "      <td>10</td>\n",
       "      <td>11</td>\n",
       "      <td>1</td>\n",
       "      <td>11292</td>\n",
       "      <td>14107</td>\n",
       "      <td>2241</td>\n",
       "      <td>-4.00</td>\n",
       "      <td>2350</td>\n",
       "      <td>...</td>\n",
       "      <td>0</td>\n",
       "      <td>0</td>\n",
       "      <td>0</td>\n",
       "      <td>0</td>\n",
       "      <td>1</td>\n",
       "      <td>0</td>\n",
       "      <td>0</td>\n",
       "      <td>0</td>\n",
       "      <td>0</td>\n",
       "      <td>0</td>\n",
       "    </tr>\n",
       "    <tr>\n",
       "      <th>4</th>\n",
       "      <td>2021</td>\n",
       "      <td>4</td>\n",
       "      <td>10</td>\n",
       "      <td>7</td>\n",
       "      <td>4</td>\n",
       "      <td>14986</td>\n",
       "      <td>11618</td>\n",
       "      <td>1433</td>\n",
       "      <td>-7.00</td>\n",
       "      <td>1713</td>\n",
       "      <td>...</td>\n",
       "      <td>0</td>\n",
       "      <td>0</td>\n",
       "      <td>0</td>\n",
       "      <td>0</td>\n",
       "      <td>0</td>\n",
       "      <td>0</td>\n",
       "      <td>0</td>\n",
       "      <td>0</td>\n",
       "      <td>1</td>\n",
       "      <td>0</td>\n",
       "    </tr>\n",
       "  </tbody>\n",
       "</table>\n",
       "<p>5 rows × 30 columns</p>\n",
       "</div>"
      ],
      "text/plain": [
       "   Year Quarter Month DayofMonth DayOfWeek OriginAirportID DestAirportID  \\\n",
       "0  2021       4    10         22         5           11986         10423   \n",
       "1  2021       4    10         16         6           12197         13930   \n",
       "2  2021       4    10          3         7           12339         11433   \n",
       "3  2021       4    10         11         1           11292         14107   \n",
       "4  2021       4    10          7         4           14986         11618   \n",
       "\n",
       "  DepTime DepDelay ArrTime  ... Marketing_Airline_Network_AA  \\\n",
       "0    0824    -3.00    1014  ...                            0   \n",
       "1    0621    -9.00    0745  ...                            0   \n",
       "2    1406    -4.00    1516  ...                            0   \n",
       "3    2241    -4.00    2350  ...                            0   \n",
       "4    1433    -7.00    1713  ...                            0   \n",
       "\n",
       "  Marketing_Airline_Network_AS Marketing_Airline_Network_B6  \\\n",
       "0                            0                            0   \n",
       "1                            0                            0   \n",
       "2                            0                            0   \n",
       "3                            0                            0   \n",
       "4                            0                            0   \n",
       "\n",
       "  Marketing_Airline_Network_DL Marketing_Airline_Network_F9  \\\n",
       "0                            0                            0   \n",
       "1                            0                            0   \n",
       "2                            1                            0   \n",
       "3                            0                            1   \n",
       "4                            0                            0   \n",
       "\n",
       "  Marketing_Airline_Network_G4 Marketing_Airline_Network_HA  \\\n",
       "0                            1                            0   \n",
       "1                            0                            0   \n",
       "2                            0                            0   \n",
       "3                            0                            0   \n",
       "4                            0                            0   \n",
       "\n",
       "  Marketing_Airline_Network_NK Marketing_Airline_Network_UA  \\\n",
       "0                            0                            0   \n",
       "1                            0                            1   \n",
       "2                            0                            0   \n",
       "3                            0                            0   \n",
       "4                            0                            1   \n",
       "\n",
       "   Marketing_Airline_Network_WN  \n",
       "0                             0  \n",
       "1                             0  \n",
       "2                             0  \n",
       "3                             0  \n",
       "4                             0  \n",
       "\n",
       "[5 rows x 30 columns]"
      ]
     },
     "execution_count": 105,
     "metadata": {},
     "output_type": "execute_result"
    }
   ],
   "source": [
    "train = pd.get_dummies(data=train, columns=['Marketing_Airline_Network'])\n",
    "train.head()"
   ]
  },
  {
   "cell_type": "markdown",
   "id": "4fcba5db-7498-42b9-b7a7-f4079c35d848",
   "metadata": {},
   "source": [
    "#### OriginAirportID / DestAirportID"
   ]
  },
  {
   "cell_type": "code",
   "execution_count": 106,
   "id": "6feff10c-59d7-42ed-9e22-c9d153df7834",
   "metadata": {},
   "outputs": [
    {
     "data": {
      "text/plain": [
       "378"
      ]
     },
     "execution_count": 106,
     "metadata": {},
     "output_type": "execute_result"
    }
   ],
   "source": [
    "train['OriginAirportID'].nunique()"
   ]
  },
  {
   "cell_type": "markdown",
   "id": "91d897db-b8b4-4be4-9c5d-2b0362593949",
   "metadata": {},
   "source": [
    "OriginAirportID 的编码虽然是数字，但本质还是categorical类型。\n",
    "\n",
    "1. 直接数字，由于数值较大（上万），模型可能会把数值大小作为特征学习了\n",
    "2. 使用get_dummy,产生 370 * 2 列的one-hot编码，太多了\n",
    "\n",
    "所以，这里初步使用LabelEncoder进行编码"
   ]
  },
  {
   "cell_type": "code",
   "execution_count": 107,
   "id": "f0d611b3-1105-43f9-b829-636f838b8234",
   "metadata": {},
   "outputs": [],
   "source": [
    "# 编码OriginAirport\n",
    "le_OriginAir = preprocessing.LabelEncoder()\n",
    "le_OriginAir.fit(train['OriginAirportID'])\n",
    "\n",
    "train['OriginAirportID'] = le_OriginAir.transform(train['OriginAirportID'])\n",
    "\n",
    "# 编码DestAirport\n",
    "le_DestAir = preprocessing.LabelEncoder()\n",
    "le_DestAir.fit(train['DestAirportID'])\n",
    "\n",
    "train['DestAirportID'] = le_DestAir.transform(train['DestAirportID'])"
   ]
  },
  {
   "cell_type": "raw",
   "id": "b7111650-6cd6-476c-9dd5-b42c0490bc8f",
   "metadata": {},
   "source": [
    "le.transform([1, 1, 2, 6])\n",
    "le.inverse_transform([0, 0, 1, 2])"
   ]
  },
  {
   "cell_type": "markdown",
   "id": "64fd9aaf-a5fe-458a-9a90-f9c181d0ec61",
   "metadata": {},
   "source": [
    "#### model 飞机型号"
   ]
  },
  {
   "cell_type": "code",
   "execution_count": 101,
   "id": "6fa28420-ff16-498d-bf73-371e18503ee6",
   "metadata": {},
   "outputs": [],
   "source": [
    "tmp = train.groupby('model').count()[['Year']]"
   ]
  },
  {
   "cell_type": "code",
   "execution_count": 102,
   "id": "176999cb-5f45-4bf1-a28b-8ad49376d5f2",
   "metadata": {},
   "outputs": [
    {
     "data": {
      "text/html": [
       "<div>\n",
       "<style scoped>\n",
       "    .dataframe tbody tr th:only-of-type {\n",
       "        vertical-align: middle;\n",
       "    }\n",
       "\n",
       "    .dataframe tbody tr th {\n",
       "        vertical-align: top;\n",
       "    }\n",
       "\n",
       "    .dataframe thead th {\n",
       "        text-align: right;\n",
       "    }\n",
       "</style>\n",
       "<table border=\"1\" class=\"dataframe\">\n",
       "  <thead>\n",
       "    <tr style=\"text-align: right;\">\n",
       "      <th></th>\n",
       "      <th>model</th>\n",
       "      <th>Year</th>\n",
       "    </tr>\n",
       "  </thead>\n",
       "  <tbody>\n",
       "    <tr>\n",
       "      <th>77</th>\n",
       "      <td>B737</td>\n",
       "      <td>37242</td>\n",
       "    </tr>\n",
       "    <tr>\n",
       "      <th>78</th>\n",
       "      <td>B738</td>\n",
       "      <td>31161</td>\n",
       "    </tr>\n",
       "    <tr>\n",
       "      <th>16</th>\n",
       "      <td>737-7H4</td>\n",
       "      <td>28851</td>\n",
       "    </tr>\n",
       "    <tr>\n",
       "      <th>96</th>\n",
       "      <td>CL-600-2D24</td>\n",
       "      <td>26693</td>\n",
       "    </tr>\n",
       "    <tr>\n",
       "      <th>117</th>\n",
       "      <td>ERJ 170-200 LR</td>\n",
       "      <td>26604</td>\n",
       "    </tr>\n",
       "    <tr>\n",
       "      <th>94</th>\n",
       "      <td>CL-600-2B19</td>\n",
       "      <td>21461</td>\n",
       "    </tr>\n",
       "    <tr>\n",
       "      <th>60</th>\n",
       "      <td>A320</td>\n",
       "      <td>20797</td>\n",
       "    </tr>\n",
       "    <tr>\n",
       "      <th>27</th>\n",
       "      <td>737-8H4</td>\n",
       "      <td>18497</td>\n",
       "    </tr>\n",
       "    <tr>\n",
       "      <th>99</th>\n",
       "      <td>CRJ2</td>\n",
       "      <td>17371</td>\n",
       "    </tr>\n",
       "    <tr>\n",
       "      <th>64</th>\n",
       "      <td>A320-232</td>\n",
       "      <td>17167</td>\n",
       "    </tr>\n",
       "    <tr>\n",
       "      <th>109</th>\n",
       "      <td>E170</td>\n",
       "      <td>16958</td>\n",
       "    </tr>\n",
       "    <tr>\n",
       "      <th>22</th>\n",
       "      <td>737-823</td>\n",
       "      <td>16305</td>\n",
       "    </tr>\n",
       "    <tr>\n",
       "      <th>54</th>\n",
       "      <td>A319</td>\n",
       "      <td>16219</td>\n",
       "    </tr>\n",
       "    <tr>\n",
       "      <th>95</th>\n",
       "      <td>CL-600-2C10</td>\n",
       "      <td>16057</td>\n",
       "    </tr>\n",
       "    <tr>\n",
       "      <th>101</th>\n",
       "      <td>CRJ7</td>\n",
       "      <td>14154</td>\n",
       "    </tr>\n",
       "    <tr>\n",
       "      <th>108</th>\n",
       "      <td>E145</td>\n",
       "      <td>14129</td>\n",
       "    </tr>\n",
       "    <tr>\n",
       "      <th>67</th>\n",
       "      <td>A321-231</td>\n",
       "      <td>12904</td>\n",
       "    </tr>\n",
       "    <tr>\n",
       "      <th>102</th>\n",
       "      <td>CRJ9</td>\n",
       "      <td>12141</td>\n",
       "    </tr>\n",
       "    <tr>\n",
       "      <th>113</th>\n",
       "      <td>EMB-145LR</td>\n",
       "      <td>11388</td>\n",
       "    </tr>\n",
       "    <tr>\n",
       "      <th>65</th>\n",
       "      <td>A321</td>\n",
       "      <td>10215</td>\n",
       "    </tr>\n",
       "  </tbody>\n",
       "</table>\n",
       "</div>"
      ],
      "text/plain": [
       "              model   Year\n",
       "77             B737  37242\n",
       "78             B738  31161\n",
       "16          737-7H4  28851\n",
       "96      CL-600-2D24  26693\n",
       "117  ERJ 170-200 LR  26604\n",
       "94      CL-600-2B19  21461\n",
       "60             A320  20797\n",
       "27          737-8H4  18497\n",
       "99             CRJ2  17371\n",
       "64         A320-232  17167\n",
       "109            E170  16958\n",
       "22          737-823  16305\n",
       "54             A319  16219\n",
       "95      CL-600-2C10  16057\n",
       "101            CRJ7  14154\n",
       "108            E145  14129\n",
       "67         A321-231  12904\n",
       "102            CRJ9  12141\n",
       "113       EMB-145LR  11388\n",
       "65             A321  10215"
      ]
     },
     "execution_count": 102,
     "metadata": {},
     "output_type": "execute_result"
    }
   ],
   "source": [
    "tmp = tmp.reset_index()\n",
    "tmp = tmp.sort_values(by='Year', ascending=False)\n",
    "tmp.head(20)"
   ]
  },
  {
   "cell_type": "markdown",
   "id": "d85f5dfc-3af2-45aa-aa61-97076fd2d9ec",
   "metadata": {},
   "source": [
    "有点麻烦，有很多相似的不知道能不能合并，比如A320和A320-232\n",
    "\n",
    "这里也用LabelEncoder编码先"
   ]
  },
  {
   "cell_type": "code",
   "execution_count": 108,
   "id": "b99191f1-5940-4a67-8f0d-4ce3d9cb35ba",
   "metadata": {},
   "outputs": [],
   "source": [
    "# 编码OriginAirport\n",
    "le_model = preprocessing.LabelEncoder()\n",
    "le_model.fit(train['model'])\n",
    "\n",
    "train['model'] = le_model.transform(train['model'])"
   ]
  },
  {
   "cell_type": "markdown",
   "id": "56850a1b-dbd3-4be7-b4ee-e8299061956c",
   "metadata": {},
   "source": [
    "#### DepTime/ArrTime 等\n",
    "\n",
    "时间日期值怎么做特征呢？\n",
    "\n",
    "不知道，先直接用试试"
   ]
  },
  {
   "cell_type": "markdown",
   "id": "b013715d-3d4c-4e76-a8ad-7010d2bf3fdf",
   "metadata": {},
   "source": [
    "#### 去除空值"
   ]
  },
  {
   "cell_type": "code",
   "execution_count": 109,
   "id": "60b24b5b-ea58-4468-8bba-ff32218c7630",
   "metadata": {},
   "outputs": [],
   "source": [
    "train.dropna(inplace=True)"
   ]
  },
  {
   "cell_type": "code",
   "execution_count": 115,
   "id": "daa8e17a-0428-40a0-bd02-bbad1adb05d9",
   "metadata": {},
   "outputs": [],
   "source": [
    "#保存此次训练集\n",
    "train.to_csv('Train_Dataset_1021.csv', index = False)"
   ]
  },
  {
   "cell_type": "markdown",
   "id": "84c4e954-a68e-4cc7-912a-99b6e251e288",
   "metadata": {},
   "source": [
    "## 建模"
   ]
  },
  {
   "cell_type": "markdown",
   "id": "6ca08c6d-90f5-438e-a0a2-6274b45ab1e7",
   "metadata": {},
   "source": [
    "参考官网发布的[算法选择](https://scikit-learn.org/stable/tutorial/machine_learning_map/index.html)\n",
    "\n",
    "这里用LinearSVC进行二分类任务建模"
   ]
  },
  {
   "cell_type": "code",
   "execution_count": 110,
   "id": "e36d4250-9a0a-4c44-9ac3-6f3bb49c66e1",
   "metadata": {},
   "outputs": [
    {
     "name": "stdout",
     "output_type": "stream",
     "text": [
      "<class 'pandas.core.frame.DataFrame'>\n",
      "Int64Index: 741347 entries, 0 to 762572\n",
      "Data columns (total 30 columns):\n",
      " #   Column                        Non-Null Count   Dtype \n",
      "---  ------                        --------------   ----- \n",
      " 0   Year                          741347 non-null  object\n",
      " 1   Quarter                       741347 non-null  object\n",
      " 2   Month                         741347 non-null  object\n",
      " 3   DayofMonth                    741347 non-null  object\n",
      " 4   DayOfWeek                     741347 non-null  object\n",
      " 5   OriginAirportID               741347 non-null  int32 \n",
      " 6   DestAirportID                 741347 non-null  int32 \n",
      " 7   DepTime                       741347 non-null  object\n",
      " 8   DepDelay                      741347 non-null  object\n",
      " 9   ArrTime                       741347 non-null  object\n",
      " 10  Distance                      741347 non-null  object\n",
      " 11  temp                          741347 non-null  object\n",
      " 12  dwpt                          741347 non-null  object\n",
      " 13  rhum                          741347 non-null  object\n",
      " 14  prcp                          741347 non-null  object\n",
      " 15  wspd                          741347 non-null  object\n",
      " 16  wdir                          741347 non-null  object\n",
      " 17  pres                          741347 non-null  object\n",
      " 18  model                         741347 non-null  int32 \n",
      " 19  is_delay                      741347 non-null  int64 \n",
      " 20  Marketing_Airline_Network_AA  741347 non-null  uint8 \n",
      " 21  Marketing_Airline_Network_AS  741347 non-null  uint8 \n",
      " 22  Marketing_Airline_Network_B6  741347 non-null  uint8 \n",
      " 23  Marketing_Airline_Network_DL  741347 non-null  uint8 \n",
      " 24  Marketing_Airline_Network_F9  741347 non-null  uint8 \n",
      " 25  Marketing_Airline_Network_G4  741347 non-null  uint8 \n",
      " 26  Marketing_Airline_Network_HA  741347 non-null  uint8 \n",
      " 27  Marketing_Airline_Network_NK  741347 non-null  uint8 \n",
      " 28  Marketing_Airline_Network_UA  741347 non-null  uint8 \n",
      " 29  Marketing_Airline_Network_WN  741347 non-null  uint8 \n",
      "dtypes: int32(3), int64(1), object(16), uint8(10)\n",
      "memory usage: 117.4+ MB\n"
     ]
    }
   ],
   "source": [
    "train.info()"
   ]
  },
  {
   "cell_type": "code",
   "execution_count": 111,
   "id": "20320762-642a-4d0e-8d62-12ebaf09205f",
   "metadata": {},
   "outputs": [],
   "source": [
    "from sklearn.model_selection import train_test_split\n",
    "from sklearn.svm import LinearSVC\n",
    "from sklearn.pipeline import make_pipeline\n",
    "from sklearn.preprocessing import StandardScaler\n",
    "from sklearn.datasets import make_classification"
   ]
  },
  {
   "cell_type": "code",
   "execution_count": 112,
   "id": "5f34dd32-66a5-4ccc-a3d9-8cb537bd0cf2",
   "metadata": {},
   "outputs": [],
   "source": [
    "X=train.drop(['is_delay'], axis=1)\n",
    "y=train['is_delay']"
   ]
  },
  {
   "cell_type": "code",
   "execution_count": 113,
   "id": "bfb8b425-54e8-4857-b300-90ecde70b173",
   "metadata": {},
   "outputs": [],
   "source": [
    "X_train, X_test, y_train, y_test = train_test_split(X, y, test_size=0.30, random_state=101)"
   ]
  },
  {
   "cell_type": "code",
   "execution_count": 114,
   "id": "5e185945-0757-4a30-841c-bf5b45ffdedf",
   "metadata": {},
   "outputs": [
    {
     "name": "stderr",
     "output_type": "stream",
     "text": [
      "D:\\Anaconda\\lib\\site-packages\\sklearn\\svm\\_base.py:1206: ConvergenceWarning: Liblinear failed to converge, increase the number of iterations.\n",
      "  warnings.warn(\n"
     ]
    },
    {
     "data": {
      "text/plain": [
       "Pipeline(steps=[('standardscaler', StandardScaler()),\n",
       "                ('linearsvc', LinearSVC(random_state=0, tol=1e-05))])"
      ]
     },
     "execution_count": 114,
     "metadata": {},
     "output_type": "execute_result"
    }
   ],
   "source": [
    "clf = make_pipeline(StandardScaler(),\n",
    "                    LinearSVC(random_state=0, tol=1e-5))\n",
    "clf.fit(X_train, y_train)"
   ]
  },
  {
   "cell_type": "code",
   "execution_count": 118,
   "id": "f2e6b6cc-8b76-4d8f-b0d9-4fe735e5ec4f",
   "metadata": {},
   "outputs": [],
   "source": [
    "predictions = clf.predict(X_test)"
   ]
  },
  {
   "cell_type": "code",
   "execution_count": 119,
   "id": "32b23d8f-cbb0-4738-899b-cd24b8c30677",
   "metadata": {},
   "outputs": [
    {
     "name": "stdout",
     "output_type": "stream",
     "text": [
      "[[133718   6332]\n",
      " [ 29559  52796]]\n"
     ]
    }
   ],
   "source": [
    "from sklearn.metrics import confusion_matrix\n",
    "\n",
    "print(confusion_matrix(y_test,predictions))"
   ]
  },
  {
   "cell_type": "code",
   "execution_count": 120,
   "id": "c8820a5f-9105-4065-8598-d8948af1b610",
   "metadata": {},
   "outputs": [
    {
     "name": "stdout",
     "output_type": "stream",
     "text": [
      "              precision    recall  f1-score   support\n",
      "\n",
      "           0       0.82      0.95      0.88    140050\n",
      "           1       0.89      0.64      0.75     82355\n",
      "\n",
      "    accuracy                           0.84    222405\n",
      "   macro avg       0.86      0.80      0.81    222405\n",
      "weighted avg       0.85      0.84      0.83    222405\n",
      "\n"
     ]
    }
   ],
   "source": [
    "from sklearn.metrics import classification_report\n",
    "\n",
    "print(classification_report(y_test,predictions))"
   ]
  },
  {
   "cell_type": "markdown",
   "id": "6cde9b6a-9bdf-406f-9b9c-e9949ec1660d",
   "metadata": {},
   "source": [
    "## 保存/加载模型"
   ]
  },
  {
   "cell_type": "code",
   "execution_count": 122,
   "id": "c293bc78-26a3-4c19-86b7-d9dc380f3750",
   "metadata": {},
   "outputs": [],
   "source": [
    "import pickle"
   ]
  },
  {
   "cell_type": "code",
   "execution_count": 123,
   "id": "2cede91d-6333-437f-8fd1-cca6d2a39177",
   "metadata": {},
   "outputs": [],
   "source": [
    "# 保存模型\n",
    "model_folder = 'Model'\n",
    "model_filename = \"LinearSVCModel_with_DepDelay.pkl\"\n",
    "\n",
    "with open(os.path.join(model_folder,model_filename), 'wb') as file:\n",
    "    pickle.dump(clf, file)\n"
   ]
  },
  {
   "cell_type": "code",
   "execution_count": 126,
   "id": "17cd61ef-e8e3-4bbb-aab4-5b2fb223e91a",
   "metadata": {},
   "outputs": [
    {
     "name": "stdout",
     "output_type": "stream",
     "text": [
      "              precision    recall  f1-score   support\n",
      "\n",
      "           0       0.82      0.95      0.88    140050\n",
      "           1       0.89      0.64      0.75     82355\n",
      "\n",
      "    accuracy                           0.84    222405\n",
      "   macro avg       0.86      0.80      0.81    222405\n",
      "weighted avg       0.85      0.84      0.83    222405\n",
      "\n"
     ]
    }
   ],
   "source": [
    "# 加载模型\n",
    "model_folder = 'Model'\n",
    "model_filename = \"LinearSVCModel_with_DepDelay.pkl\"\n",
    "\n",
    "with open(os.path.join(model_folder,model_filename), 'rb') as file:\n",
    "    pickle_model = pickle.load(file)\n",
    "\n",
    "predictions = clf.predict(X_test)\n",
    "print(classification_report(y_test,predictions))"
   ]
  }
 ],
 "metadata": {
  "kernelspec": {
   "display_name": "Python 3 (ipykernel)",
   "language": "python",
   "name": "python3"
  },
  "language_info": {
   "codemirror_mode": {
    "name": "ipython",
    "version": 3
   },
   "file_extension": ".py",
   "mimetype": "text/x-python",
   "name": "python",
   "nbconvert_exporter": "python",
   "pygments_lexer": "ipython3",
   "version": "3.9.13"
  }
 },
 "nbformat": 4,
 "nbformat_minor": 5
}
